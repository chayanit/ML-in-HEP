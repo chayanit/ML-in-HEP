{
 "cells": [
  {
   "cell_type": "code",
   "execution_count": null,
   "id": "african-census",
   "metadata": {
    "scrolled": false
   },
   "outputs": [],
   "source": [
    "pip install uproot awkward"
   ]
  },
  {
   "cell_type": "code",
   "execution_count": null,
   "id": "deadly-reset",
   "metadata": {},
   "outputs": [],
   "source": [
    "import uproot\n",
    "import awkward\n",
    "import numpy as np\n",
    "import pandas as pd"
   ]
  },
  {
   "cell_type": "code",
   "execution_count": null,
   "id": "impossible-center",
   "metadata": {},
   "outputs": [],
   "source": [
    "file = uproot.open('filename.root')\n",
    "file"
   ]
  },
  {
   "cell_type": "code",
   "execution_count": null,
   "id": "possible-printer",
   "metadata": {},
   "outputs": [],
   "source": [
    "file.keys()"
   ]
  },
  {
   "cell_type": "code",
   "execution_count": null,
   "id": "functioning-insulation",
   "metadata": {},
   "outputs": [],
   "source": [
    "file.classnames()"
   ]
  },
  {
   "cell_type": "markdown",
   "id": "viral-pricing",
   "metadata": {},
   "source": [
   ]
  },
  {
   "cell_type": "code",
   "execution_count": null,
   "id": "extensive-singapore",
   "metadata": {},
   "outputs": [],
   "source": [
    "tree = file['mssmhbb']\n",
    "tree"
   ]
  },
  {
   "cell_type": "code",
   "execution_count": null,
   "id": "defensive-backup",
   "metadata": {},
   "outputs": [],
   "source": [
    "tree.keys()"
   ]
  },
  {
   "cell_type": "code",
   "execution_count": null,
   "id": "postal-facial",
   "metadata": {},
   "outputs": [],
   "source": [
    "tree.arrays()"
   ]
  },
  {
   "cell_type": "code",
   "execution_count": null,
   "id": "pressed-order",
   "metadata": {},
   "outputs": [],
   "source": [
    "type(tree.arrays())"
   ]
  },
  {
   "cell_type": "code",
   "execution_count": null,
   "id": "stylish-sustainability",
   "metadata": {},
   "outputs": [],
   "source": [
    "branches = tree.arrays()"
   ]
  },
  {
   "cell_type": "code",
   "execution_count": null,
   "id": "ordinary-howard",
   "metadata": {},
   "outputs": [],
   "source": [
    "branches[0]"
   ]
  },
  {
   "cell_type": "code",
   "execution_count": null,
   "id": "purple-prescription",
   "metadata": {
    "scrolled": true
   },
   "outputs": [],
   "source": [
    "branches_pd = awkward.to_pandas(branches)\n",
    "branches_pd"
   ]
  },
  {
   "cell_type": "code",
   "execution_count": null,
   "id": "unlikely-holocaust",
   "metadata": {},
   "outputs": [],
   "source": [
    "branches_pd.columns"
   ]
  },
  {
   "cell_type": "code",
   "execution_count": null,
   "id": "other-toddler",
   "metadata": {
    "scrolled": true
   },
   "outputs": [],
   "source": [
    "branches_pd.describe()"
   ]
  },
  {
   "cell_type": "code",
   "execution_count": null,
   "id": "hungry-stockholm",
   "metadata": {},
   "outputs": [],
   "source": [
    "branches_pd.info()"
   ]
  },
  {
   "cell_type": "markdown",
   "id": "sapphire-verse",
   "metadata": {},
   "source": [
    "# weight>0"
   ]
  },
  {
   "cell_type": "code",
   "execution_count": null,
   "id": "critical-setup",
   "metadata": {},
   "outputs": [],
   "source": [
    "branches_wp = branches_pd[(branches_pd['weight']>0)]\n",
    "branches_wp"
   ]
  },
  {
   "cell_type": "code",
   "execution_count": null,
   "id": "convinced-maine",
   "metadata": {},
   "outputs": [],
   "source": [
    "branches_wp.to_csv('filename.csv')"
   ]
  },
  {
   "cell_type": "code",
   "execution_count": null,
   "id": "documentary-teacher",
   "metadata": {},
   "outputs": [],
   "source": []
  }
 ],
 "metadata": {
  "kernelspec": {
   "display_name": "Python 3",
   "language": "python",
   "name": "python3"
  },
  "language_info": {
   "codemirror_mode": {
    "name": "ipython",
    "version": 3
   },
   "file_extension": ".py",
   "mimetype": "text/x-python",
   "name": "python",
   "nbconvert_exporter": "python",
   "pygments_lexer": "ipython3",
   "version": "3.9.1"
  }
 },
 "nbformat": 4,
 "nbformat_minor": 5
}
